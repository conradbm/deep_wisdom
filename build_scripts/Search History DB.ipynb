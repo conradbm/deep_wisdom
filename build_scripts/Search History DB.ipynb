{
 "cells": [
  {
   "cell_type": "code",
   "execution_count": 1,
   "metadata": {},
   "outputs": [],
   "source": [
    "import sqlite3\n",
    "import datetime\n"
   ]
  },
  {
   "cell_type": "code",
   "execution_count": 2,
   "metadata": {},
   "outputs": [],
   "source": []
  },
  {
   "cell_type": "code",
   "execution_count": 4,
   "metadata": {},
   "outputs": [
    {
     "name": "stdout",
     "output_type": "stream",
     "text": [
      "('2019-05-25 17:57:08.273329', 'obedience', \"['2 Corinthians 3:18', 'Matthew 8:20', '1 Peter 1:3', '2 Corinthians 2:12', 'Matthew 28:18', 'Hebrews 4:14', 'John 1:18', 'Ephesians 2:13', 'Mark 16:19', 'Matthew 25:34', 'Revelation 1:5', 'Revelation 1:11', 'James 1:27', 'Revelation 2:24', 'Hebrews 2:9', '2 Timothy 4:10', 'Ephesians 1:14', 'Ephesians 1:18', 'Romans 5:5', 'John 17:24', 'John 12:31', 'Hebrews 6:4', 'Acts 26:18', '2 Corinthians 12:2', '1 Corinthians 4:17', 'Hebrews 3:6', 'Acts 18:3', 'Romans 3:22', '2 Corinthians 4:4', 'Matthew 13:22', 'Philippians 1:7', '1 Peter 1:21', 'Romans 2:16', 'John 1:4', '1 Timothy 3:16', 'Luke 1:1', 'Acts 19:21', 'John 3:18', 'Romans 15:1', 'Colossians 3:4', 'Ephesians 1:7', 'Galatians 1:4', '1 Corinthians 1:21', 'Romans 15:26', 'Hebrews 1:3', '1 Corinthians 9:12', 'John 10:15', 'Romans 2:4', 'John 1:3', 'Romans 2:7']\")\n"
     ]
    }
   ],
   "source": [
    "def create():\n",
    "    try:\n",
    "        c.execute(\"\"\"CREATE TABLE T_SearchHistory\n",
    "                 (time, searchString, verseResults)\"\"\")\n",
    "    except:\n",
    "        pass\n",
    "\n",
    "def insert(args=(\"time\", \"love patience\", \"gen1:1, gen1:2, ect..\")):\n",
    "    c.execute(\"\"\"INSERT INTO T_SearchHistory (time, searchString, verseResults)\n",
    "              values(?, ?, ?)\"\"\",args)\n",
    "\n",
    "def select(verbose=True):\n",
    "    sql = \"SELECT * FROM T_SearchHistory\"\n",
    "    recs = c.execute(sql)\n",
    "    if verbose:\n",
    "        for row in recs:\n",
    "            print(row)\n",
    "\n",
    "db_path = r'/Users/laurensuarez/Desktop/deep_wisdom/deep_wisdom_django/dwsite/data/history.db'\n",
    "conn = sqlite3.connect(db_path)\n",
    "c = conn.cursor()\n",
    "#create()\n",
    "#insert(args=(str(datetime.datetime.now()), \"love\", \"gen11..\"))\n",
    "conn.commit() #commit needed\n",
    "select()\n",
    "conn.close()"
   ]
  },
  {
   "cell_type": "code",
   "execution_count": 22,
   "metadata": {},
   "outputs": [],
   "source": [
    "results=conn.cursor().execute(\"DROP TABLE T_SearchHistory\")"
   ]
  },
  {
   "cell_type": "code",
   "execution_count": 21,
   "metadata": {},
   "outputs": [
    {
     "data": {
      "text/plain": [
       "[('2019-05-25 12:39:59.041942', 'love', 'gen11..')]"
      ]
     },
     "execution_count": 21,
     "metadata": {},
     "output_type": "execute_result"
    }
   ],
   "source": [
    "results"
   ]
  },
  {
   "cell_type": "code",
   "execution_count": 5,
   "metadata": {},
   "outputs": [],
   "source": [
    "import string"
   ]
  },
  {
   "cell_type": "code",
   "execution_count": 10,
   "metadata": {},
   "outputs": [],
   "source": [
    "from nltk.corpus import stopwords\n",
    "english_stopwords=stopwords.words('english')"
   ]
  },
  {
   "cell_type": "code",
   "execution_count": 16,
   "metadata": {},
   "outputs": [
    {
     "data": {
      "text/plain": [
       "True"
      ]
     },
     "execution_count": 16,
     "metadata": {},
     "output_type": "execute_result"
    }
   ],
   "source": [
    "\"a\" in english_stopwords"
   ]
  },
  {
   "cell_type": "code",
   "execution_count": null,
   "metadata": {},
   "outputs": [],
   "source": []
  }
 ],
 "metadata": {
  "kernelspec": {
   "display_name": "Python 3",
   "language": "python",
   "name": "python3"
  },
  "language_info": {
   "codemirror_mode": {
    "name": "ipython",
    "version": 3
   },
   "file_extension": ".py",
   "mimetype": "text/x-python",
   "name": "python",
   "nbconvert_exporter": "python",
   "pygments_lexer": "ipython3",
   "version": "3.6.5"
  }
 },
 "nbformat": 4,
 "nbformat_minor": 2
}
